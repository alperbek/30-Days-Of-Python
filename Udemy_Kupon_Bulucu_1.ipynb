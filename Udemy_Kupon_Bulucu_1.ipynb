{
  "nbformat": 4,
  "nbformat_minor": 0,
  "metadata": {
    "colab": {
      "name": "Udemy Kupon Bulucu 1",
      "provenance": [],
      "include_colab_link": true
    },
    "kernelspec": {
      "name": "python3",
      "display_name": "Python 3"
    }
  },
  "cells": [
    {
      "cell_type": "markdown",
      "metadata": {
        "id": "view-in-github",
        "colab_type": "text"
      },
      "source": [
        "<a href=\"https://colab.research.google.com/github/alperbek/30-Days-Of-Python/blob/master/Udemy_Kupon_Bulucu_1.ipynb\" target=\"_parent\"><img src=\"https://colab.research.google.com/assets/colab-badge.svg\" alt=\"Open In Colab\"/></a>"
      ]
    },
    {
      "cell_type": "code",
      "metadata": {
        "id": "S_aDFtU8Hpey",
        "colab_type": "code",
        "colab": {
          "base_uri": "https://localhost:8080/",
          "height": 124
        },
        "outputId": "f06b2303-a9b3-44c9-e362-f510b3723e94"
      },
      "source": [
        "pip install colorama"
      ],
      "execution_count": null,
      "outputs": [
        {
          "output_type": "stream",
          "text": [
            "ERROR! Session/line number was not unique in database. History logging moved to new session 59\n",
            "Collecting colorama\n",
            "  Downloading https://files.pythonhosted.org/packages/c9/dc/45cdef1b4d119eb96316b3117e6d5708a08029992b2fee2c143c7a0a5cc5/colorama-0.4.3-py2.py3-none-any.whl\n",
            "Installing collected packages: colorama\n",
            "Successfully installed colorama-0.4.3\n"
          ],
          "name": "stdout"
        }
      ]
    },
    {
      "cell_type": "code",
      "metadata": {
        "id": "H1UJA68bHcg5",
        "colab_type": "code",
        "colab": {
          "base_uri": "https://localhost:8080/",
          "height": 225
        },
        "outputId": "98939ea9-1fa9-42e8-8572-8104fa557565"
      },
      "source": [
        "import requests, urllib, json, colorama\n",
        "from bs4 import BeautifulSoup\n",
        "from colorama import init, Fore, Style\n",
        "\n",
        "init(autoreset=True)\n",
        "\n",
        "sorgu = \"inurl:udemy.com/course/ \\\"inurl:couponCode\"\n",
        "# Bu kısımda Google'da arama yapıyoruz.\n",
        "tbs = \"d\" \n",
        "URL = f\"https://google.com/search?q={sorgu}&tbs=qdr:{tbs}\"\n",
        "\n",
        "\n",
        "# Sanal tarayıcı oluşturuyoruz.\n",
        "USER_AGENT = \"Mozilla/5.0 (Windows NT 10.0; Win64; x64) AppleWebKit/537.36 (KHTML, like Gecko) Chrome/42.0.2311.135 Safari/537.36 Edge/12.246\"\n",
        "ACCEPT_ENCODING = \"gzip, deflate, br\"\n",
        "\n",
        "headers = { 'User-Agent' : USER_AGENT, 'Content-Type': \"text/plain\" }\n",
        "\n",
        "resp = requests.get(URL, headers=headers)\n",
        "try:\n",
        "  #Bağlantı sorunsuz olursa yani dönüş kodumuz 200 olursa BeatufiulSoup ile sayfayı parçalıyoruz.\n",
        "  if resp.status_code == 200:\n",
        "      soup = BeautifulSoup(resp.content, \"html.parser\")\n",
        "\n",
        "  link, title, coupon = [], [], []\n",
        "  for g in soup.find_all('div', class_='r'):\n",
        "      anchors = g.find_all('a')\n",
        "      if anchors:\n",
        "          title.append(g.find('h3').text)\n",
        "          link.append(anchors[0]['href'])\n",
        "          coupon.append((anchors[0]['href']).partition(\"?couponCode=\")[2]) \n",
        "\n",
        "  results = [{\"Title\": t, \"Link\": l, \"Coupon\": c} for t, l, c in zip(title, link, coupon)]\n",
        "\n",
        "  for i in range(len(results)):\n",
        "\n",
        "      resp = requests.get(results[i][\"Link\"], headers=headers)\n",
        "\n",
        "      if resp.status_code == 200:\n",
        "          course_code = BeautifulSoup(resp.content, \"html.parser\").body['data-clp-course-id']\n",
        "        \n",
        "          CodeCheck_URL = f\"https://www.udemy.com/api-2.0/course-landing-components/{course_code}/me/?components=buy_button,purchase,redeem_coupon,discount_expiration,gift_this_course&discountCode=\"+results[i][\"Coupon\"]\n",
        "\n",
        "          resp = requests.request(\"GET\",CodeCheck_URL, headers=headers).json()\n",
        "        \n",
        "        # Kuponları ekrana yazdırıyoruz.\n",
        "          if (resp)[\"purchase\"][\"data\"][\"pricing_result\"][\"price\"][\"amount\"] == 0:\n",
        "              print(f\"\\n[{Fore.GREEN}*{Style.RESET_ALL}]\")\n",
        "              print(f\"\\t{Fore.GREEN}Başlık: {Style.RESET_ALL}\"+results[i][\"Title\"], sep='\\n')\n",
        "              print(f\"\\t{Fore.GREEN}Adres: {Style.RESET_ALL}\"+results[i][\"Link\"], sep='\\n')\n",
        "              print(f\"\\t{Fore.GREEN}Kupon: {Style.RESET_ALL}\"+results[i][\"Coupon\"]+ \n",
        "                  f\"\\t\\t{Fore.GREEN}Tahmini Kalan Kupon: {Style.RESET_ALL}\"+str((resp)[\"purchase\"][\"data\"][\"pricing_result\"][\"campaign\"][\"uses_remaining\"])\n",
        "                  +str(f\"\\t\\t{Fore.GREEN}Kupon Bitiş Zamanı:: {Style.RESET_ALL}\"+str((resp)[\"purchase\"][\"data\"][\"pricing_result\"][\"campaign\"][\"end_time\"])[:-9])) \n",
        "              print(\"Bulduğunuz kodları bize twitter.com/ucretsiz_egitim sayfasını etiketleyerek gönderirseniz harika olur.\")\n",
        "except KeyError:\n",
        "  pass\n",
        "      "
      ],
      "execution_count": null,
      "outputs": [
        {
          "output_type": "stream",
          "text": [
            "\n",
            "[*]\n",
            "\tBaşlık: CompTIA Security SY0-401 Network Security Practice Exam ...\n",
            "\tAdres: https://www.udemy.com/course/comptia-security-sy0-401-network-security-practice-exam/?couponCode=SY0-401\n",
            "\tKupon: SY0-401\t\tTahmini Kalan Kupon: 39596\t\tKupon Bitiş Zamanı:: 2020-04-09 12:11\n",
            "Bulduğunuz kodları bize twitter.com/ucretsizegitim sayfasını etiketleyerek gönderirseniz harika olur.\n",
            "\n",
            "[*]\n",
            "\tBaşlık: Hyperion 4H0-435 Financial Management V3 Practice Exam ...\n",
            "\tAdres: https://www.udemy.com/course/hyperion-4h0-435-financial-management-v3-practice-exam-r/?couponCode=4H0-435\n",
            "\tKupon: 4H0-435\t\tTahmini Kalan Kupon: 39702\t\tKupon Bitiş Zamanı:: 2020-04-09 11:33\n",
            "Bulduğunuz kodları bize twitter.com/ucretsizegitim sayfasını etiketleyerek gönderirseniz harika olur.\n"
          ],
          "name": "stdout"
        }
      ]
    },
    {
      "cell_type": "code",
      "metadata": {
        "id": "t2d_FSItHsL4",
        "colab_type": "code",
        "colab": {}
      },
      "source": [
        ""
      ],
      "execution_count": null,
      "outputs": []
    }
  ]
}